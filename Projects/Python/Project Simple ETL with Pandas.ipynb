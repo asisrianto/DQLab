{
 "cells": [
  {
   "cell_type": "markdown",
   "id": "24433b07",
   "metadata": {},
   "source": [
    "CHAPTER 1 Pengantar"
   ]
  },
  {
   "cell_type": "markdown",
   "id": "aa62e63e",
   "metadata": {},
   "source": [
    "Extract, Transform dan Load (ETL) merupakan kumpulan proses untuk \"memindahkan\" data dari satu tempat ke tempat lain.\n",
    "Tempat yang dimaksud adalah dari sumber data (bisa berupa database aplikasi, file, logs, database dari 3rd party, dan lainnya) ke data warehouse.\n",
    "\n",
    "Apa itu data warehouse?\n",
    "\n",
    "Singkatnya, data warehouse merupakan database yang berisi data-data (tabel-tabel) yang sudah siap untuk dilakukan analisis oleh Data Analyst maupun Data Scientist.\n",
    "\n",
    "Lebih lengkapnya bisa dilihat di:\n",
    "https://en.wikipedia.org/wiki/Data_warehouse."
   ]
  },
  {
   "cell_type": "markdown",
   "id": "16de871a",
   "metadata": {},
   "source": [
    "Project yang Akan Dikerjakan\n",
    "\n",
    "Pada proyek kali ini, Anda diminta untuk mengolah data pendaftar hackathon yang diselenggarakan oleh DQLab bernama DQThon.\n",
    "\n",
    "Dataset ini terdiri dari 5000 baris data (5000 pendaftar) dengan format CSV (Comma-separated values) dan memiliki beberapa kolom diantaranya:\n",
    "\n",
    "    participant_id: ID dari peserta/partisipan hackathon. Kolom ini bersifat unique sehingga antar peserta pasti memiliki ID yang berbeda\n",
    "    first_name: nama depan peserta\n",
    "    last_name: nama belakang peserta\n",
    "    birth_date: tanggal lahir peserta\n",
    "    address: alamat tempat tinggal peserta\n",
    "    phone_number: nomor hp/telepon peserta\n",
    "    country: negara asal peserta\n",
    "    institute: institusi peserta saat ini, bisa berupa nama perusahaan maupun nama universitas\n",
    "    occupation: pekerjaan peserta saat ini\n",
    "    register_time: waktu peserta melakukan pendaftaran hackathon dalam second\n",
    "\n",
    "Namun pada proyek ini nantinya Anda diminta untuk menghasilkan beberapa kolom dengan memanfaatkan kolom-kolom yang ada, sehingga akhir dari proyek ini berupa hasil transformasi data dengan beberapa kolom baru selain dari 10 kolom diatas."
   ]
  },
  {
   "cell_type": "markdown",
   "id": "a3b89ec0",
   "metadata": {},
   "source": [
    "CHAPTER 2 Transform Data"
   ]
  },
  {
   "cell_type": "markdown",
   "id": "a002cd3d",
   "metadata": {},
   "source": [
    "Extract\n",
    "\n",
    "Extract merupakan proses meng-ekstraksi data dari sumber, sumber data ini bisa berupa relational data (SQL) atau tabel, nonrelational (NoSQL) maupun yang lainnya.\n",
    "\n",
    "Tugas Anda adalah baca terlebih dahulu dataset ini sebagai CSV agar nantinya bisa diolah. Gunakan live code editor untuk menampilkan dataset.\n",
    "\n",
    "File tersebut bisa diakses melalui URL: https://storage.googleapis.com/dqlab-dataset/dqthon-participants.csv"
   ]
  },
  {
   "cell_type": "code",
   "execution_count": 1,
   "id": "9ee181ea",
   "metadata": {},
   "outputs": [],
   "source": [
    "import pandas as pd\n",
    "df_participant = pd.read_csv('https://storage.googleapis.com/dqlab-dataset/dqthon-participants.csv')"
   ]
  },
  {
   "cell_type": "markdown",
   "id": "48f03058",
   "metadata": {},
   "source": [
    "Transform\n",
    "\n",
    "Transform merupakan proses melakukan transformasi data, atau perubahan terhadap data. Umumnya seperti:\n",
    "\n",
    "    Merubah nilai dari suatu kolom ke nilai baru,\n",
    "    Menciptakan kolom baru dengan memanfaatkan kolom lain,\n",
    "    Transpose baris menjadi kolom (atau sebaliknya),\n",
    "    Mengubah format data ke bentuk yang lebih standard (contohnya, kolom date, maupun datetime yang biasanya memiliki nilai yang tidak standard maupun nomor HP yang biasanya memiliki nilai yang tidak sesuai format standardnya), dan lainnya. \n"
   ]
  },
  {
   "cell_type": "markdown",
   "id": "f5fc9f02",
   "metadata": {},
   "source": [
    "\n",
    "Transform Bagian I - Kode Pos\n",
    "\n",
    "Ada permintaan datang dari tim logistik bahwa mereka membutuhkan kode pos dari peserta agar pengiriman piala lebih mudah dan cepat sampai. Maka dari itu buatlah kolom baru bernama postal_code yang memuat informasi mengenai kode pos yang diambil dari alamat peserta (kolom address).\n",
    "\n",
    "Diketahui bahwa kode pos berada di paling akhir dari alamat tersebut.\n",
    "\n",
    "Note:\n",
    "Jika regex yang dimasukkan tidak bisa menangkap pattern dari value kolom address maka akan menghasilkan NaN.\n"
   ]
  },
  {
   "cell_type": "code",
   "execution_count": 2,
   "id": "2d7a03a1",
   "metadata": {},
   "outputs": [],
   "source": [
    "import pandas as pd\n",
    "df_participant = pd.read_csv('https://storage.googleapis.com/dqlab-dataset/dqthon-participants.csv')\n",
    "\n",
    "df_participant['postal_code'] = df_participant['address'].str.extract(r'(\\d+)$') #Masukkan regex Anda didalam fungsi extract"
   ]
  },
  {
   "cell_type": "markdown",
   "id": "787d55ed",
   "metadata": {},
   "source": [
    "\n",
    "Transform Bagian II - Kota\n",
    "\n",
    "Selain kode pos, mereka juga membutuhkan kota dari peserta.\n",
    "\n",
    "Untuk menyediakan informasi tersebut, buatlah kolom baru bernama city yang didapat dari kolom address. Diasumsikan bahwa kota merupakan sekumpulan karakter yang terdapat setelah nomor jalan diikuti dengan \\n (newline character) atau dalam bahasa lainnya yaitu enter.\n"
   ]
  },
  {
   "cell_type": "code",
   "execution_count": 3,
   "id": "b73160cb",
   "metadata": {},
   "outputs": [],
   "source": [
    "import pandas as pd\n",
    "df_participant = pd.read_csv('https://storage.googleapis.com/dqlab-dataset/dqthon-participants.csv')\n",
    "df_participant['postal_code'] = df_participant['address'].str.extract(r'(\\d+)$')\n",
    "\n",
    "#Masukkan regex Anda didalam fungsi extract\n",
    "df_participant['city'] = df_participant['address'].str.extract(r'(?<=\\n)(\\w.+)(?=,)') "
   ]
  },
  {
   "cell_type": "markdown",
   "id": "d48df3a0",
   "metadata": {},
   "source": [
    "\n",
    "Transform Bagian III - Github\n",
    "\n",
    "Salah satu parameter untuk mengetahui proyek apa saja yang pernah dikerjakan oleh peserta yaitu dari git repository mereka.\n",
    "\n",
    "Pada kasus ini kita menggunakan profil github sebagai parameternya. Tugas Anda yaitu membuat kolom baru bernama github_profile yang merupakan link profil github dari peserta.\n",
    "\n",
    "Diketahui bahwa profil github mereka merupakan gabungan dari first_name dan last_name yang sudah di-lowercase. \n"
   ]
  },
  {
   "cell_type": "code",
   "execution_count": 4,
   "id": "f9264e96",
   "metadata": {},
   "outputs": [],
   "source": [
    "import pandas as pd\n",
    "df_participant = pd.read_csv('https://storage.googleapis.com/dqlab-dataset/dqthon-participants.csv')\n",
    "df_participant['postal_code'] = df_participant['address'].str.extract(r'(\\d+)$')\n",
    "df_participant['city'] = df_participant['address'].str.extract(r'(?<=\\n)(\\w.+)(?=,)') \n",
    "\n",
    "df_participant['github_profile'] = 'https://github.com/' + df_participant['first_name'].str.lower() + df_participant['last_name'].str.lower()"
   ]
  },
  {
   "cell_type": "markdown",
   "id": "9c4ddbbc",
   "metadata": {},
   "source": [
    "\n",
    "Transform Bagian IV - Nomor Handphone\n",
    "\n",
    "Jika kita lihat kembali, ternyata nomor handphone yang ada pada data csv kita memiliki format yang berbeda-beda. Maka dari itu, kita perlu untuk melakukan cleansing pada data nomor handphone agar memiliki format yang sama. Anda sebagai Data Engineer diberi privilege untuk menentukan format nomor handphone yang benar. Pada kasus ini mari kita samakan formatnya dengan aturan:\n",
    "\n",
    "    Jika awalan nomor HP berupa angka 62 atau +62 yang merupakan kode telepon Indonesia, maka diterjemahkan ke 0.\n",
    "    Tidak ada tanda baca seperti kurung buka, kurung tutup, strip⟶ ()-\n",
    "    Tidak ada spasi pada nomor HP nama kolom untuk menyimpan hasil cleansing pada nomor HP yaitu cleaned_phone_number\n",
    "\n"
   ]
  },
  {
   "cell_type": "code",
   "execution_count": 5,
   "id": "1df3131d",
   "metadata": {},
   "outputs": [
    {
     "name": "stderr",
     "output_type": "stream",
     "text": [
      "C:\\Users\\ASUS\\AppData\\Local\\Temp\\ipykernel_2620\\977405577.py:8: FutureWarning: The default value of regex will change from True to False in a future version.\n",
      "  df_participant['cleaned_phone_number'] = df_participant['phone_number'].str.replace(r'^(\\+62|62)', '0')\n",
      "C:\\Users\\ASUS\\AppData\\Local\\Temp\\ipykernel_2620\\977405577.py:9: FutureWarning: The default value of regex will change from True to False in a future version.\n",
      "  df_participant['cleaned_phone_number'] = df_participant['cleaned_phone_number'].str.replace(r'[()-]', '')\n",
      "C:\\Users\\ASUS\\AppData\\Local\\Temp\\ipykernel_2620\\977405577.py:10: FutureWarning: The default value of regex will change from True to False in a future version.\n",
      "  df_participant['cleaned_phone_number'] = df_participant['cleaned_phone_number'].str.replace(r'\\s+', '')\n"
     ]
    }
   ],
   "source": [
    "import pandas as pd\n",
    "df_participant = pd.read_csv('https://storage.googleapis.com/dqlab-dataset/dqthon-participants.csv')\n",
    "df_participant['postal_code'] = df_participant['address'].str.extract(r'(\\d+)$')\n",
    "df_participant['city'] = df_participant['address'].str.extract(r'(?<=\\n)(\\w.+)(?=,)') \n",
    "df_participant['github_profile'] = 'https://github.com/' + df_participant['first_name'].str.lower() + df_participant['last_name'].str.lower()\n",
    "\n",
    "#Masukkan regex anda pada parameter pertama dari fungsi replace\n",
    "df_participant['cleaned_phone_number'] = df_participant['phone_number'].str.replace(r'^(\\+62|62)', '0')\n",
    "df_participant['cleaned_phone_number'] = df_participant['cleaned_phone_number'].str.replace(r'[()-]', '')\n",
    "df_participant['cleaned_phone_number'] = df_participant['cleaned_phone_number'].str.replace(r'\\s+', '')\n"
   ]
  },
  {
   "cell_type": "markdown",
   "id": "afbb42b9",
   "metadata": {},
   "source": [
    "\n",
    "Transform Bagian V - Nama Tim\n",
    "\n",
    "Dataset saat ini belum memuat nama tim, dan rupanya dari tim Data Analyst membutuhkan informasi terkait nama tim dari masing-masing peserta.\n",
    "\n",
    "Diketahui bahwa nama tim merupakan gabungan nilai dari kolom first_name, last_name, country dan institute.\n",
    "\n",
    "Tugas Anda yakni buatlah kolom baru dengan nama team_name yang memuat informasi nama tim dari peserta.\n"
   ]
  },
  {
   "cell_type": "code",
   "execution_count": 6,
   "id": "740f5e5d",
   "metadata": {},
   "outputs": [
    {
     "name": "stderr",
     "output_type": "stream",
     "text": [
      "C:\\Users\\ASUS\\AppData\\Local\\Temp\\ipykernel_2620\\1456904954.py:6: FutureWarning: The default value of regex will change from True to False in a future version.\n",
      "  df_participant['cleaned_phone_number'] = df_participant['phone_number'].str.replace(r'^(\\+62|62)', '0')\n",
      "C:\\Users\\ASUS\\AppData\\Local\\Temp\\ipykernel_2620\\1456904954.py:7: FutureWarning: The default value of regex will change from True to False in a future version.\n",
      "  df_participant['cleaned_phone_number'] = df_participant['cleaned_phone_number'].str.replace(r'[()-]', '')\n",
      "C:\\Users\\ASUS\\AppData\\Local\\Temp\\ipykernel_2620\\1456904954.py:8: FutureWarning: The default value of regex will change from True to False in a future version.\n",
      "  df_participant['cleaned_phone_number'] = df_participant['cleaned_phone_number'].str.replace(r'\\s+', '')\n"
     ]
    }
   ],
   "source": [
    "import pandas as pd\n",
    "df_participant = pd.read_csv('https://storage.googleapis.com/dqlab-dataset/dqthon-participants.csv')\n",
    "df_participant['postal_code'] = df_participant['address'].str.extract(r'(\\d+)$')\n",
    "df_participant['city'] = df_participant['address'].str.extract(r'(?<=\\n)(\\w.+)(?=,)') \n",
    "df_participant['github_profile'] = 'https://github.com/' + df_participant['first_name'].str.lower() + df_participant['last_name'].str.lower()\n",
    "df_participant['cleaned_phone_number'] = df_participant['phone_number'].str.replace(r'^(\\+62|62)', '0')\n",
    "df_participant['cleaned_phone_number'] = df_participant['cleaned_phone_number'].str.replace(r'[()-]', '')\n",
    "df_participant['cleaned_phone_number'] = df_participant['cleaned_phone_number'].str.replace(r'\\s+', '')\n",
    "\n",
    "def func(col):\n",
    "    abbrev_name = \"%s%s\"%(col['first_name'][0],col['last_name'][0]) #Singkatan dari Nama Depan dan Nama Belakang dengan mengambil huruf pertama\n",
    "    country = col['country']\n",
    "    abbrev_institute = '%s'%(''.join(list(map(lambda word: word[0], col['institute'].split())))) #Singkatan dari value di kolom institute\n",
    "    return \"%s-%s-%s\"%(abbrev_name,country,abbrev_institute)\n",
    "\n",
    "df_participant['team_name'] = df_participant.apply(func, axis=1)\n"
   ]
  },
  {
   "cell_type": "markdown",
   "id": "cf1e0e9b",
   "metadata": {},
   "source": [
    "\n",
    "Transform Bagian VI - Email\n",
    "\n",
    "Setelah dilihat kembali dari data peserta yang dimiliki, ternyata ada satu informasi yang penting namun belum tersedia, yaitu email.\n",
    "\n",
    "Anda sebagai Data Engineer diminta untuk menyediakan informasi email dari peserta dengan aturan bahwa format email sebagai berikut:\n",
    "\n",
    "Format email:\n",
    "xxyy@aa.bb.[ac/com].[cc]\n",
    "\n",
    "Keterangan:\n",
    "xx -> nama depan (first_name) dalam lowercase\n",
    "yy -> nama belakang (last_name) dalam lowercase\n",
    "aa -> nama institusi\n",
    "\n",
    "Untuk nilai bb, dan cc mengikuti nilai dari aa. Aturannya:\n",
    "- Jika institusi nya merupakan Universitas, maka\n",
    "  bb -> gabungan dari huruf pertama pada setiap kata dari nama Universitas dalam lowercase\n",
    "  Kemudian, diikuti dengan .ac yang menandakan akademi/institusi belajar dan diikuti dengan pattern cc\n",
    "- Jika institusi bukan merupakan Universitas, maka\n",
    "  bb -> gabungan dari huruf pertama pada setiap kata dari nama Universitas dalam lowercase\n",
    "  Kemudian, diikuti dengan .com. Perlu diketahui bahwa pattern cc tidak berlaku pada kondisi ini\n",
    "\n",
    "cc -> merupakan negara asal peserta, adapun aturannya:\n",
    "- Jika banyaknya kata pada negara tersebut lebih dari 1 maka ambil singkatan dari negara tersebut dalam lowercase\n",
    "- Namun, jika banyaknya kata hanya 1 maka ambil 3 huruf terdepan dari negara tersebut dalam lowercase\n",
    "\n",
    "Contoh:\n",
    "  Nama depan: Citra\n",
    "  Nama belakang: Nurdiyanti\n",
    "  Institusi: UD Prakasa Mandasari\n",
    "  Negara: Georgia\n",
    "  Maka,Email nya: citranurdiyanti@upm.geo\n",
    "  -----------------------------------\n",
    "  Nama depan: Aris\n",
    "  Nama belakang: Setiawan\n",
    "  Institusi: Universitas Diponegoro\n",
    "  Negara: Korea Utara\n",
    "  Maka, Email nya: arissetiawan@ud.ac.ku\n",
    "\n"
   ]
  },
  {
   "cell_type": "code",
   "execution_count": 7,
   "id": "a8f22239",
   "metadata": {},
   "outputs": [
    {
     "name": "stderr",
     "output_type": "stream",
     "text": [
      "C:\\Users\\ASUS\\AppData\\Local\\Temp\\ipykernel_2620\\3370493378.py:6: FutureWarning: The default value of regex will change from True to False in a future version.\n",
      "  df_participant['cleaned_phone_number'] = df_participant['phone_number'].str.replace(r'^(\\+62|62)', '0')\n",
      "C:\\Users\\ASUS\\AppData\\Local\\Temp\\ipykernel_2620\\3370493378.py:7: FutureWarning: The default value of regex will change from True to False in a future version.\n",
      "  df_participant['cleaned_phone_number'] = df_participant['cleaned_phone_number'].str.replace(r'[()-]', '')\n",
      "C:\\Users\\ASUS\\AppData\\Local\\Temp\\ipykernel_2620\\3370493378.py:8: FutureWarning: The default value of regex will change from True to False in a future version.\n",
      "  df_participant['cleaned_phone_number'] = df_participant['cleaned_phone_number'].str.replace(r'\\s+', '')\n"
     ]
    }
   ],
   "source": [
    "import pandas as pd\n",
    "df_participant = pd.read_csv('https://storage.googleapis.com/dqlab-dataset/dqthon-participants.csv')\n",
    "df_participant['postal_code'] = df_participant['address'].str.extract(r'(\\d+)$')\n",
    "df_participant['city'] = df_participant['address'].str.extract(r'(?<=\\n)(\\w.+)(?=,)') \n",
    "df_participant['github_profile'] = 'https://github.com/' + df_participant['first_name'].str.lower() + df_participant['last_name'].str.lower()\n",
    "df_participant['cleaned_phone_number'] = df_participant['phone_number'].str.replace(r'^(\\+62|62)', '0')\n",
    "df_participant['cleaned_phone_number'] = df_participant['cleaned_phone_number'].str.replace(r'[()-]', '')\n",
    "df_participant['cleaned_phone_number'] = df_participant['cleaned_phone_number'].str.replace(r'\\s+', '')\n",
    "\n",
    "def func(col):\n",
    "    abbrev_name = \"%s%s\"%(col['first_name'][0],col['last_name'][0])\n",
    "    country = col['country']\n",
    "    abbrev_institute = '%s'%(''.join(list(map(lambda word: word[0], col['institute'].split()))))\n",
    "    return \"%s-%s-%s\"%(abbrev_name,country,abbrev_institute)\n",
    "df_participant['team_name'] = df_participant.apply(func, axis=1)\n",
    "\n",
    "def func(col):\n",
    "    first_name_lower = col['first_name'].lower()\n",
    "    last_name_lower = col['last_name'].lower()\n",
    "    institute = ''.join(list(map(lambda word: word[0], col['institute'].lower().split()))) #Singkatan dari nama perusahaan dalam lowercase\n",
    "\n",
    "    if 'Universitas' in col['institute']:\n",
    "        if len(col['country'].split()) > 1: #Kondisi untuk mengecek apakah jumlah kata dari country lebih dari 1\n",
    "            country = ''.join(list(map(lambda word: word[0], col['country'].lower().split())))\n",
    "        else:\n",
    "            country = col['country'][:3].lower()\n",
    "        return \"%s%s@%s.ac.%s\"%(first_name_lower,last_name_lower,institute,country)\n",
    "\n",
    "    return \"%s%s@%s.com\"%(first_name_lower,last_name_lower,institute)\n",
    "\n",
    "df_participant['email'] = df_participant.apply(func, axis=1)"
   ]
  },
  {
   "cell_type": "markdown",
   "id": "ad67b26e",
   "metadata": {},
   "source": [
    "\n",
    "Transform Bagian VII - Tanggal Lahir\n",
    "\n",
    "MySQL merupakan salah satu database yang sangat populer dan digunakan untuk menyimpan data berupa tabel, termasuk data hasil pengolahan yang sudah kita lakukan ini nantinya bisa dimasukkan ke MySQL.\n",
    "\n",
    "Meskipun begitu, ada suatu aturan dari MySQL terkait format tanggal yang bisa mereka terima yaitu YYYY-MM-DD dengan keterangan:\n",
    "\n",
    "    YYYY: 4 digit yang menandakan tahun\n",
    "    MM: 2 digit yang menandakan bulan\n",
    "    DD: 2 digit yang menandakan tanggal\n",
    "\n",
    "Contohnya yaitu: 2021-04-07\n",
    "\n",
    "Jika kita lihat kembali pada kolom tanggal lahir terlihat bahwa nilainya belum sesuai dengan format DATE dari MySQL\n",
    "\n",
    "(Lihat lebih detail di sini.).\n",
    "\n",
    "Oleh karena itu, lakukanlah formatting terhadap kolom birth_date menjadi YYYY-MM-DD dan simpan di kolom yang sama.\n"
   ]
  },
  {
   "cell_type": "code",
   "execution_count": 8,
   "id": "a6b7c25e",
   "metadata": {},
   "outputs": [
    {
     "name": "stderr",
     "output_type": "stream",
     "text": [
      "C:\\Users\\ASUS\\AppData\\Local\\Temp\\ipykernel_2620\\1525606542.py:6: FutureWarning: The default value of regex will change from True to False in a future version.\n",
      "  df_participant['cleaned_phone_number'] = df_participant['phone_number'].str.replace(r'^(\\+62|62)', '0')\n",
      "C:\\Users\\ASUS\\AppData\\Local\\Temp\\ipykernel_2620\\1525606542.py:7: FutureWarning: The default value of regex will change from True to False in a future version.\n",
      "  df_participant['cleaned_phone_number'] = df_participant['cleaned_phone_number'].str.replace(r'[()-]', '')\n",
      "C:\\Users\\ASUS\\AppData\\Local\\Temp\\ipykernel_2620\\1525606542.py:8: FutureWarning: The default value of regex will change from True to False in a future version.\n",
      "  df_participant['cleaned_phone_number'] = df_participant['cleaned_phone_number'].str.replace(r'\\s+', '')\n"
     ]
    }
   ],
   "source": [
    "import pandas as pd\n",
    "df_participant = pd.read_csv('https://storage.googleapis.com/dqlab-dataset/dqthon-participants.csv')\n",
    "df_participant['postal_code'] = df_participant['address'].str.extract(r'(\\d+)$')\n",
    "df_participant['city'] = df_participant['address'].str.extract(r'(?<=\\n)(\\w.+)(?=,)') \n",
    "df_participant['github_profile'] = 'https://github.com/' + df_participant['first_name'].str.lower() + df_participant['last_name'].str.lower()\n",
    "df_participant['cleaned_phone_number'] = df_participant['phone_number'].str.replace(r'^(\\+62|62)', '0')\n",
    "df_participant['cleaned_phone_number'] = df_participant['cleaned_phone_number'].str.replace(r'[()-]', '')\n",
    "df_participant['cleaned_phone_number'] = df_participant['cleaned_phone_number'].str.replace(r'\\s+', '')\n",
    "\n",
    "def func(col):\n",
    "    abbrev_name = \"%s%s\"%(col['first_name'][0],col['last_name'][0])\n",
    "    country = col['country']\n",
    "    abbrev_institute = '%s'%(''.join(list(map(lambda word: word[0], col['institute'].split()))))\n",
    "    return \"%s-%s-%s\"%(abbrev_name,country,abbrev_institute)\n",
    "df_participant['team_name'] = df_participant.apply(func, axis=1)\n",
    "\n",
    "def func(col):\n",
    "    first_name_lower = col['first_name'].lower()\n",
    "    last_name_lower = col['last_name'].lower()\n",
    "    institute = ''.join(list(map(lambda word: word[0], col['institute'].lower().split())))\n",
    "    \n",
    "    if 'Universitas' in col['institute']:\n",
    "        if len(col['country'].split()) > 1:\n",
    "            country = ''.join(list(map(lambda word: word[0], col['country'].lower().split())))\n",
    "        else:\n",
    "            country = col['country'][:3].lower()\n",
    "        return \"%s%s@%s.ac.%s\"%(first_name_lower,last_name_lower,institute,country)\n",
    "        \n",
    "    return \"%s%s@%s.com\"%(first_name_lower,last_name_lower,institute)\n",
    "    \n",
    "df_participant['email'] = df_participant.apply(func, axis=1)\n",
    "\n",
    "\n",
    "df_participant['birth_date'] = pd.to_datetime(df_participant['birth_date'], format='%d %b %Y')"
   ]
  },
  {
   "cell_type": "markdown",
   "id": "a2fb484b",
   "metadata": {},
   "source": [
    "\n",
    "Transform Bagian VII - Tanggal Daftar Kompetisi\n",
    "\n",
    "Selain punya aturan mengenai format DATE, MySQL juga memberi aturan pada data yang bertipe DATETIME yaitu YYYY-MM-DD HH:mm:ss dengan keterangan:\n",
    "\n",
    "    YYYY: 4 digit yang menandakan tahun\n",
    "    MM: 2 digit yang menandakan bulan\n",
    "    DD: 2 digit yang menandakan tanggal\n",
    "    HH: 2 digit yang menandakan jam\n",
    "    mm: 2 digit yang menandakan menit\n",
    "    ss: 2 digit yang menandakan detik\n",
    "\n",
    "Contohnya yaitu: 2021-04-07 15:10:55\n",
    "\n",
    "Karena data kita mengenai waktu registrasi peserta (register_time) belum sesuai format yang seharusnya.\n",
    "\n",
    "Maka dari itu, tugas Anda yaitu untuk merubah register_time ke format DATETIME sesuai dengan aturan dari MySQL.\n",
    "\n",
    "Simpanlah hasil tersebut ke kolom register_at.\n"
   ]
  },
  {
   "cell_type": "code",
   "execution_count": 9,
   "id": "a5c40cae",
   "metadata": {},
   "outputs": [
    {
     "name": "stderr",
     "output_type": "stream",
     "text": [
      "C:\\Users\\ASUS\\AppData\\Local\\Temp\\ipykernel_2620\\2319830581.py:6: FutureWarning: The default value of regex will change from True to False in a future version.\n",
      "  df_participant['cleaned_phone_number'] = df_participant['phone_number'].str.replace(r'^(\\+62|62)', '0')\n",
      "C:\\Users\\ASUS\\AppData\\Local\\Temp\\ipykernel_2620\\2319830581.py:7: FutureWarning: The default value of regex will change from True to False in a future version.\n",
      "  df_participant['cleaned_phone_number'] = df_participant['cleaned_phone_number'].str.replace(r'[()-]', '')\n",
      "C:\\Users\\ASUS\\AppData\\Local\\Temp\\ipykernel_2620\\2319830581.py:8: FutureWarning: The default value of regex will change from True to False in a future version.\n",
      "  df_participant['cleaned_phone_number'] = df_participant['cleaned_phone_number'].str.replace(r'\\s+', '')\n"
     ]
    }
   ],
   "source": [
    "import pandas as pd\n",
    "df_participant = pd.read_csv('https://storage.googleapis.com/dqlab-dataset/dqthon-participants.csv')\n",
    "df_participant['postal_code'] = df_participant['address'].str.extract(r'(\\d+)$')\n",
    "df_participant['city'] = df_participant['address'].str.extract(r'(?<=\\n)(\\w.+)(?=,)') \n",
    "df_participant['github_profile'] = 'https://github.com/' + df_participant['first_name'].str.lower() + df_participant['last_name'].str.lower()\n",
    "df_participant['cleaned_phone_number'] = df_participant['phone_number'].str.replace(r'^(\\+62|62)', '0')\n",
    "df_participant['cleaned_phone_number'] = df_participant['cleaned_phone_number'].str.replace(r'[()-]', '')\n",
    "df_participant['cleaned_phone_number'] = df_participant['cleaned_phone_number'].str.replace(r'\\s+', '')\n",
    "\n",
    "def func(col):\n",
    "    abbrev_name = \"%s%s\"%(col['first_name'][0],col['last_name'][0])\n",
    "    country = col['country']\n",
    "    abbrev_institute = '%s'%(''.join(list(map(lambda word: word[0], col['institute'].split()))))\n",
    "    return \"%s-%s-%s\"%(abbrev_name,country,abbrev_institute)\n",
    "df_participant['team_name'] = df_participant.apply(func, axis=1)\n",
    "\n",
    "def func(col):\n",
    "    first_name_lower = col['first_name'].lower()\n",
    "    last_name_lower = col['last_name'].lower()\n",
    "    institute = ''.join(list(map(lambda word: word[0], col['institute'].lower().split())))\n",
    "    \n",
    "    if 'Universitas' in col['institute']:\n",
    "        if len(col['country'].split()) > 1:\n",
    "            country = ''.join(list(map(lambda word: word[0], col['country'].lower().split())))\n",
    "        else:\n",
    "            country = col['country'][:3].lower()\n",
    "        return \"%s%s@%s.ac.%s\"%(first_name_lower,last_name_lower,institute,country)\n",
    "        \n",
    "    return \"%s%s@%s.com\"%(first_name_lower,last_name_lower,institute)\n",
    "    \n",
    "df_participant['email'] = df_participant.apply(func, axis=1)\n",
    "df_participant['birth_date'] = pd.to_datetime(df_participant['birth_date'], format='%d %b %Y')\n",
    "\n",
    "\n",
    "df_participant['register_at'] = pd.to_datetime(df_participant['register_time'], unit='s')"
   ]
  },
  {
   "cell_type": "markdown",
   "id": "b0b0fc26",
   "metadata": {},
   "source": [
    "Kesimpulan\n",
    "\n",
    "Dengan begitu, tibalah kita di penghujung dari chapter bagian transform ini.\n",
    "\n",
    "Jika dilihat kembali, dataset Anda saat ini sudah berbeda dengan saat proses extract sebelumnya. Ada beberapa kolom tambahan yang memanfaatkan nilai kolom lain.\n",
    "\n",
    "Dataset Anda saat ini memuat kolom:\n",
    "\n",
    "    participant_id: ID dari peserta/partisipan hackathon. Kolom ini bersifat unique sehingga antar peserta pasti memiliki ID yang berbeda\n",
    "    first_name: nama depan peserta\n",
    "    last_name: nama belakang peserta\n",
    "    birth_date: tanggal lahir peserta (sudah diformat ke YYYY-MM-DD)\n",
    "    address: alamat tempat tinggal peserta\n",
    "    phone_number: nomor hp/telepon peserta\n",
    "    country: negara asal peserta\n",
    "    institute: institusi peserta saat ini, bisa berupa nama perusahaan maupun nama universitas\n",
    "    occupation: pekerjaan peserta saat ini\n",
    "    register_time: waktu peserta melakukan pendaftaran hackathon dalam second\n",
    "    team_name: nama tim peserta (gabungan dari nama depan, nama belakang, negara dan institusi)\n",
    "    postal_code: kode pos alamat peserta (diambil dari kolom alamat)\n",
    "    city: kota peserta (diambil dari kolom alamat)\n",
    "    github_profile: link profil github peserta (gabungan dari nama depan, dan nama belakang)\n",
    "    email: alamat email peserta (gabungan dari nama depan, nama belakang, institusi dan negara)\n",
    "    cleaned_phone_number: nomor hp/telepon peserta (sudah lebih sesuai dengan format nomor telepon)\n",
    "    register_at: tanggal dan waktu peserta melakukan pendaftaran (sudah dalam format DATETIME)\n",
    "\n"
   ]
  },
  {
   "cell_type": "markdown",
   "id": "2919d817",
   "metadata": {},
   "source": [
    "Load\n",
    "\n",
    "Pada bagian load ini, data yang sudah ditransformasi sedemikian rupa sehingga sesuai dengan kebutuhan tim analyst dimasukkan kembali ke database yaitu Data Warehouse (DWH). Biasanya, dilakukan pendefinisian skema database terlebih dahulu seperti:\n",
    "\n",
    "    Nama kolom\n",
    "    Tipe kolom\n",
    "    Apakah primary key, unique key, index atau bukan\n",
    "    Panjang kolomnya\n",
    "\n",
    "Karena umumnya Data Warehouse merupakan database yang terstruktur sehingga mereka memerlukan skema sebelum datanya dimasukkan.\n",
    "\n",
    "Pandas sudah menyediakan fungsi untuk memasukkan data ke database yaitu to_sql().\n",
    "\n",
    "Detail dari fungsi tersebut bisa dilihat pada dokumentasi Pandas: https://pandas.pydata.org/docs/reference/api/pandas.DataFrame.to_sql.html\n"
   ]
  },
  {
   "cell_type": "markdown",
   "id": "8ab70f0b",
   "metadata": {},
   "source": [
    "CHAPTER 3 Quiz"
   ]
  },
  {
   "cell_type": "markdown",
   "id": "1845a412",
   "metadata": {},
   "source": [
    "Selain menggunakan pd.read_csv() untuk membaca file pada Pandas. Apa sajakah fungsi yang bisa digunakan?\n",
    "\n",
    "JAWABAN\n",
    "pd.read_pickle()"
   ]
  },
  {
   "cell_type": "markdown",
   "id": "81977b15",
   "metadata": {},
   "source": [
    "Regular Expression yang paling tepat untuk menangkap pattern com yang merupakan domain email dari string\n",
    "professional.academy@dqlab.com adalah?\n",
    "\n",
    "JAWABAN\n",
    "com"
   ]
  },
  {
   "cell_type": "markdown",
   "id": "88712871",
   "metadata": {},
   "source": [
    "Kita tahu bahwa kolom participant_id pada dataset Peserta DQThon terdiri dari kumpulan huruf dan angka serta simbol strip ( - ).\n",
    "\n",
    "Jika kita hanya ingin menyisakan angkanya saja, kode program manakah dibawah ini yang tepat untuk melakukan hal itu?\n",
    "\n",
    " \n",
    "\n",
    "*Note: hasil dari transformasi ini disimpan ke kolom baru bernama participant_number)\n",
    "\n",
    "JAWABAN\n",
    "df_participant['participant_number'] = df_participant['participant_id'].str.replace(r'[a-zA-Z-]', '')"
   ]
  },
  {
   "cell_type": "code",
   "execution_count": null,
   "id": "1c0b981b",
   "metadata": {},
   "outputs": [],
   "source": []
  }
 ],
 "metadata": {
  "kernelspec": {
   "display_name": "Python 3 (ipykernel)",
   "language": "python",
   "name": "python3"
  },
  "language_info": {
   "codemirror_mode": {
    "name": "ipython",
    "version": 3
   },
   "file_extension": ".py",
   "mimetype": "text/x-python",
   "name": "python",
   "nbconvert_exporter": "python",
   "pygments_lexer": "ipython3",
   "version": "3.9.7"
  }
 },
 "nbformat": 4,
 "nbformat_minor": 5
}
